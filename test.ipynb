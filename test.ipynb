{
 "cells": [
  {
   "cell_type": "code",
   "execution_count": 1,
   "metadata": {},
   "outputs": [
    {
     "name": "stdout",
     "output_type": "stream",
     "text": [
      "The history saving thread hit an unexpected error (OperationalError('attempt to write a readonly database')).History will not be written to the database.\n",
      "WARNING:tensorflow:From /Users/george/Sites/anonymizer/.venv/lib/python3.9/site-packages/tensorflow/python/compat/v2_compat.py:107: disable_resource_variables (from tensorflow.python.ops.variable_scope) is deprecated and will be removed in a future version.\n",
      "Instructions for updating:\n",
      "non-resource variables are not supported in the long term\n"
     ]
    }
   ],
   "source": [
    "from anonymizer.anonymization import Anonymizer\n",
    "from anonymizer.detection import Detector, get_weights_path\n",
    "from anonymizer.obfuscation import Obfuscator\n",
    "from PIL import Image\n",
    "import numpy as np\n",
    "from aws_lambda_typing import context as context_, events, responses\n",
    "import json\n",
    "import requests\n",
    "from typing import Dict\n",
    "import io\n",
    "import boto3"
   ]
  },
  {
   "cell_type": "code",
   "execution_count": 2,
   "metadata": {},
   "outputs": [
    {
     "name": "stdout",
     "output_type": "stream",
     "text": [
      "Metal device set to: Apple M1 Pro\n",
      "\n",
      "systemMemory: 32.00 GB\n",
      "maxCacheSize: 10.67 GB\n",
      "\n"
     ]
    },
    {
     "name": "stderr",
     "output_type": "stream",
     "text": [
      "2022-04-25 17:57:53.637289: I tensorflow/core/common_runtime/pluggable_device/pluggable_device_factory.cc:305] Could not identify NUMA node of platform GPU ID 0, defaulting to 0. Your kernel may not have been built with NUMA support.\n",
      "2022-04-25 17:57:53.637478: I tensorflow/core/common_runtime/pluggable_device/pluggable_device_factory.cc:271] Created TensorFlow device (/job:localhost/replica:0/task:0/device:GPU:0 with 0 MB memory) -> physical PluggableDevice (device: 0, name: METAL, pci bus id: <undefined>)\n",
      "2022-04-25 17:57:53.648915: W tensorflow/core/platform/profile_utils/cpu_utils.cc:128] Failed to get CPU frequency: 0 Hz\n",
      "2022-04-25 17:57:53.648976: I tensorflow/core/grappler/optimizers/custom_graph_optimizer_registry.cc:113] Plugin optimizer for device_type GPU is enabled.\n",
      "2022-04-25 17:57:54.417673: I tensorflow/core/common_runtime/pluggable_device/pluggable_device_factory.cc:305] Could not identify NUMA node of platform GPU ID 0, defaulting to 0. Your kernel may not have been built with NUMA support.\n",
      "2022-04-25 17:57:54.417693: I tensorflow/core/common_runtime/pluggable_device/pluggable_device_factory.cc:271] Created TensorFlow device (/job:localhost/replica:0/task:0/device:GPU:0 with 0 MB memory) -> physical PluggableDevice (device: 0, name: METAL, pci bus id: <undefined>)\n",
      "2022-04-25 17:57:55.157545: I tensorflow/core/common_runtime/pluggable_device/pluggable_device_factory.cc:305] Could not identify NUMA node of platform GPU ID 0, defaulting to 0. Your kernel may not have been built with NUMA support.\n",
      "2022-04-25 17:57:55.157566: I tensorflow/core/common_runtime/pluggable_device/pluggable_device_factory.cc:271] Created TensorFlow device (/job:localhost/replica:0/task:0/device:GPU:0 with 0 MB memory) -> physical PluggableDevice (device: 0, name: METAL, pci bus id: <undefined>)\n"
     ]
    }
   ],
   "source": [
    "weights_path = './weights'\n",
    "kernel_size, sigma, box_kernel_size = 21,2,9\n",
    "obfuscator = Obfuscator(kernel_size=int(kernel_size), sigma=float(sigma), box_kernel_size=int(box_kernel_size))\n",
    "detectors = {\n",
    "    'face': Detector(kind='face', weights_path=get_weights_path(weights_path, kind='face')),\n",
    "    'plate': Detector(kind='plate', weights_path=get_weights_path(weights_path, kind='plate'))\n",
    "}\n",
    "detection_thresholds = {\n",
    "    'face': 0.3,\n",
    "    'plate': 0.3\n",
    "}"
   ]
  },
  {
   "cell_type": "code",
   "execution_count": 3,
   "metadata": {},
   "outputs": [],
   "source": [
    "filename = \"Oss-West_P102.jpg\"\n",
    "image = Image.open(f\"/Users/george/Sites/anonymizer/images/{filename}\").convert('RGB')"
   ]
  },
  {
   "cell_type": "code",
   "execution_count": 4,
   "metadata": {},
   "outputs": [],
   "source": [
    "def start_points(size, split_size, overlap=0, region_of_interest=None):\n",
    "    offset = 0\n",
    "\n",
    "    if region_of_interest:\n",
    "        size = region_of_interest[1] - region_of_interest[0]\n",
    "        offset = region_of_interest[0]\n",
    "    \n",
    "    stride = int(split_size * (1-overlap))\n",
    "    \n",
    "    points = []\n",
    "    counter = 0\n",
    "    \n",
    "    while True:\n",
    "        start_point = stride * counter\n",
    "        \n",
    "        if start_point + split_size >= size: # last box, will potentially exceed size\n",
    "            points.append((start_point+offset, size+offset))\n",
    "            break\n",
    "        \n",
    "        points.append((start_point+offset, start_point+split_size+offset))\n",
    "        counter += 1\n",
    "    return points"
   ]
  },
  {
   "cell_type": "code",
   "execution_count": 5,
   "metadata": {},
   "outputs": [
    {
     "data": {
      "text/plain": [
       "([(0, 2000),\n",
       "  (1800, 3800),\n",
       "  (3600, 5600),\n",
       "  (5400, 7400),\n",
       "  (7200, 9200),\n",
       "  (9000, 11000),\n",
       "  (10800, 12648)],\n",
       " [(2500, 4500)])"
      ]
     },
     "execution_count": 5,
     "metadata": {},
     "output_type": "execute_result"
    }
   ],
   "source": [
    "split_width = 2000\n",
    "split_height = 2500\n",
    "\n",
    "X_points = start_points(image.width, split_width, overlap=0.1)\n",
    "Y_points = start_points(image.height, split_height, overlap=0.1, region_of_interest=[2500, 4500])\n",
    "\n",
    "X_points, Y_points"
   ]
  },
  {
   "cell_type": "code",
   "execution_count": 6,
   "metadata": {},
   "outputs": [
    {
     "name": "stdout",
     "output_type": "stream",
     "text": [
      "Total of 7 splits\n"
     ]
    },
    {
     "data": {
      "text/plain": [
       "[(0, 2000, 2500, 4500),\n",
       " (1800, 3800, 2500, 4500),\n",
       " (3600, 5600, 2500, 4500),\n",
       " (5400, 7400, 2500, 4500),\n",
       " (7200, 9200, 2500, 4500),\n",
       " (9000, 11000, 2500, 4500),\n",
       " (10800, 12648, 2500, 4500)]"
      ]
     },
     "execution_count": 6,
     "metadata": {},
     "output_type": "execute_result"
    }
   ],
   "source": [
    "coords = []\n",
    "for x_start, x_stop in X_points:\n",
    "    for y_start, y_stop in Y_points:\n",
    "        coords.append((x_start, x_stop, y_start, y_stop))\n",
    "\n",
    "print(f'Total of {len(coords)} splits')\n",
    "coords"
   ]
  },
  {
   "cell_type": "code",
   "execution_count": 7,
   "metadata": {},
   "outputs": [
    {
     "name": "stderr",
     "output_type": "stream",
     "text": [
      "2022-04-25 17:57:55.925949: I tensorflow/core/grappler/optimizers/custom_graph_optimizer_registry.cc:113] Plugin optimizer for device_type GPU is enabled.\n",
      "2022-04-25 17:57:56.627934: W tensorflow/core/grappler/costs/op_level_cost_estimator.cc:690] Error in PredictCost() for the op: op: \"CropAndResize\" attr { key: \"T\" value { type: DT_FLOAT } } attr { key: \"extrapolation_value\" value { f: 0 } } attr { key: \"method\" value { s: \"bilinear\" } } inputs { dtype: DT_FLOAT shape { dim { size: -48 } dim { size: -76 } dim { size: -77 } dim { size: 1024 } } } inputs { dtype: DT_FLOAT shape { dim { size: -23 } dim { size: 4 } } } inputs { dtype: DT_INT32 shape { dim { size: -23 } } } inputs { dtype: DT_INT32 shape { dim { size: 2 } } value { dtype: DT_INT32 tensor_shape { dim { size: 2 } } int_val: 14 } } device { type: \"CPU\" model: \"0\" num_cores: 10 environment { key: \"cpu_instruction_set\" value: \"ARM NEON\" } environment { key: \"eigen\" value: \"3.4.90\" } l1_cache_size: 16384 l2_cache_size: 524288 l3_cache_size: 524288 memory_size: 268435456 } outputs { dtype: DT_FLOAT shape { dim { size: -23 } dim { size: 14 } dim { size: 14 } dim { size: 1024 } } }\n",
      "2022-04-25 17:57:59.265108: I tensorflow/core/grappler/optimizers/custom_graph_optimizer_registry.cc:113] Plugin optimizer for device_type GPU is enabled.\n",
      "2022-04-25 17:57:59.911896: W tensorflow/core/grappler/costs/op_level_cost_estimator.cc:690] Error in PredictCost() for the op: op: \"CropAndResize\" attr { key: \"T\" value { type: DT_FLOAT } } attr { key: \"extrapolation_value\" value { f: 0 } } attr { key: \"method\" value { s: \"bilinear\" } } inputs { dtype: DT_FLOAT shape { dim { size: -48 } dim { size: -76 } dim { size: -77 } dim { size: 1024 } } } inputs { dtype: DT_FLOAT shape { dim { size: -23 } dim { size: 4 } } } inputs { dtype: DT_INT32 shape { dim { size: -23 } } } inputs { dtype: DT_INT32 shape { dim { size: 2 } } value { dtype: DT_INT32 tensor_shape { dim { size: 2 } } int_val: 14 } } device { type: \"CPU\" model: \"0\" num_cores: 10 environment { key: \"cpu_instruction_set\" value: \"ARM NEON\" } environment { key: \"eigen\" value: \"3.4.90\" } l1_cache_size: 16384 l2_cache_size: 524288 l3_cache_size: 524288 memory_size: 268435456 } outputs { dtype: DT_FLOAT shape { dim { size: -23 } dim { size: 14 } dim { size: 14 } dim { size: 1024 } } }\n"
     ]
    }
   ],
   "source": [
    "detections = []\n",
    "\n",
    "from anonymizer.utils import Box\n",
    "\n",
    "for x_start, x_stop, y_start, y_stop in coords:\n",
    "    tile = image.crop((x_start, y_start, x_stop, y_stop))\n",
    "    np_tile = np.array(tile)\n",
    "\n",
    "    for kind, detector in detectors.items():\n",
    "        boxes = detector.detect(np_tile, detection_threshold=detection_thresholds[kind])\n",
    "\n",
    "        for detection in boxes:\n",
    "            detections.append(Box(\n",
    "                detection.x_min + x_start,\n",
    "                detection.y_min + y_start,\n",
    "                detection.x_max + x_start,\n",
    "                detection.y_max + y_start,\n",
    "                detection.score,\n",
    "                detection.kind\n",
    "            ))"
   ]
  },
  {
   "cell_type": "code",
   "execution_count": 15,
   "metadata": {},
   "outputs": [
    {
     "data": {
      "text/plain": [
       "'[{\"x_min\": 1085.4804515838623, \"y_min\": 3156.8840742111206, \"x_max\": 1101.8235683441162, \"score\": 0.9589233994483948, \"kind\": \"face\"}, {\"x_min\": 1017.3044204711914, \"y_min\": 3152.9901027679443, \"x_max\": 1035.280466079712, \"score\": 0.915312647819519, \"kind\": \"face\"}, {\"x_min\": 1022.1309661865234, \"y_min\": 3152.539908885956, \"x_max\": 1040.8315658569336, \"score\": 0.9145825505256653, \"kind\": \"face\"}, {\"x_min\": 1442.9224729537964, \"y_min\": 3178.9480447769165, \"x_max\": 1457.6228857040405, \"score\": 0.8470209836959839, \"kind\": \"face\"}, {\"x_min\": 2786.0804677009583, \"y_min\": 3182.192027568817, \"x_max\": 2807.3037147521973, \"score\": 0.8171029090881348, \"kind\": \"face\"}, {\"x_min\": 2681.138265132904, \"y_min\": 3147.416889667511, \"x_max\": 2694.175350666046, \"score\": 0.701903223991394, \"kind\": \"face\"}, {\"x_min\": 2568.347680568695, \"y_min\": 3164.9415493011475, \"x_max\": 2576.0151028633118, \"score\": 0.5082163214683533, \"kind\": \"face\"}, {\"x_min\": 2675.8172392845154, \"y_min\": 3150.8538722991943, \"x_max\": 2687.503921985626, \"score\": 0.5023337006568909, \"kind\": \"face\"}, {\"x_min\": 2566.8616771698, \"y_min\": 3162.593364715576, \"x_max\": 2574.56670999527, \"score\": 0.4308476150035858, \"kind\": \"face\"}, {\"x_min\": 2642.2160148620605, \"y_min\": 3160.013973712921, \"x_max\": 2650.498139858246, \"score\": 0.3652609586715698, \"kind\": \"face\"}, {\"x_min\": 4042.625969648361, \"y_min\": 3310.222089290619, \"x_max\": 4059.4875872135162, \"score\": 0.4224850833415985, \"kind\": \"face\"}, {\"x_min\": 6990.3918743133545, \"y_min\": 3345.519244670868, \"x_max\": 7008.272433280945, \"score\": 0.3408074676990509, \"kind\": \"face\"}, {\"x_min\": 5969.064259529114, \"y_min\": 3319.7033405303955, \"x_max\": 5998.773777484894, \"score\": 0.9897851347923279, \"kind\": \"plate\"}, {\"x_min\": 8693.346691131592, \"y_min\": 3325.959324836731, \"x_max\": 8704.559636116028, \"score\": 0.42875126004219055, \"kind\": \"face\"}, {\"x_min\": 8687.988829612732, \"y_min\": 3326.1672258377075, \"x_max\": 8700.5601644516, \"score\": 0.3729124069213867, \"kind\": \"face\"}, {\"x_min\": 9967.956960201263, \"y_min\": 3202.3151516914368, \"x_max\": 9983.672559261322, \"score\": 0.9184324145317078, \"kind\": \"face\"}]'"
      ]
     },
     "execution_count": 15,
     "metadata": {},
     "output_type": "execute_result"
    }
   ],
   "source": [
    "import json\n",
    "array_shape = map(lambda box: { \n",
    "            \"x_min\": box.x_min,\n",
    "            \"y_min\": box.y_min,\n",
    "            \"x_max\": box.x_max,\n",
    "            \"x_max\": box.x_max,\n",
    "            \"score\": box.score,\n",
    "            \"kind\": box.kind,\n",
    "         }, detections)\n",
    "json.dumps(list(array_shape))"
   ]
  },
  {
   "cell_type": "code",
   "execution_count": 8,
   "metadata": {},
   "outputs": [],
   "source": [
    "np_image = np.array(image)"
   ]
  },
  {
   "cell_type": "code",
   "execution_count": 9,
   "metadata": {},
   "outputs": [
    {
     "name": "stderr",
     "output_type": "stream",
     "text": [
      "2022-04-25 17:58:15.506145: I tensorflow/core/grappler/optimizers/custom_graph_optimizer_registry.cc:113] Plugin optimizer for device_type GPU is enabled.\n"
     ]
    }
   ],
   "source": [
    "obfuscated_np_image = obfuscator.obfuscate(np_image, detections)"
   ]
  },
  {
   "cell_type": "code",
   "execution_count": 10,
   "metadata": {},
   "outputs": [],
   "source": [
    "obfuscated_image = Image.fromarray((obfuscated_np_image).astype(np.uint8), mode='RGB')"
   ]
  },
  {
   "cell_type": "code",
   "execution_count": 11,
   "metadata": {},
   "outputs": [],
   "source": [
    "obfuscated_image.save(f\"/Users/george/Sites/anonymizer/images-anonymized/{filename}\")"
   ]
  }
 ],
 "metadata": {
  "interpreter": {
   "hash": "2618300d29866c3c7331de57dac3b39f69158fad66853fef87459b28a97e265f"
  },
  "kernelspec": {
   "display_name": "Python 3.9.12 ('.venv': venv)",
   "language": "python",
   "name": "python3"
  },
  "language_info": {
   "codemirror_mode": {
    "name": "ipython",
    "version": 3
   },
   "file_extension": ".py",
   "mimetype": "text/x-python",
   "name": "python",
   "nbconvert_exporter": "python",
   "pygments_lexer": "ipython3",
   "version": "3.9.12"
  },
  "orig_nbformat": 4
 },
 "nbformat": 4,
 "nbformat_minor": 2
}
